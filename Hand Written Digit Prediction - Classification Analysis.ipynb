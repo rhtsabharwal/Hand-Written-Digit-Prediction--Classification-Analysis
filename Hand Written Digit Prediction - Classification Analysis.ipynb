{
 "cells": [
  {
   "cell_type": "markdown",
   "id": "357fea31",
   "metadata": {},
   "source": [
    "# Hand Written Digit Prediction- Classification Analysis"
   ]
  },
  {
   "cell_type": "markdown",
   "id": "8596868e",
   "metadata": {},
   "source": [
    "### The digits dataset consists of 8x8 images of digits. The images attribute of the dataset stores 8x8 arrays of grayscale values for each image. We will use arrays to visualize the first 4 images. The target attribute of the dataset stores the digit eah image representation"
   ]
  },
  {
   "cell_type": "markdown",
   "id": "5c4d22a7",
   "metadata": {},
   "source": [
    "# Import Library"
   ]
  },
  {
   "cell_type": "code",
   "execution_count": 1,
   "id": "863e6b84",
   "metadata": {},
   "outputs": [],
   "source": [
    "import pandas as pd\n",
    "import numpy as np\n",
    "import matplotlib.pyplot as plt"
   ]
  },
  {
   "cell_type": "code",
   "execution_count": 2,
   "id": "b6c05695",
   "metadata": {},
   "outputs": [],
   "source": [
    "from sklearn.datasets import load_digits"
   ]
  },
  {
   "cell_type": "markdown",
   "id": "828e46d5",
   "metadata": {},
   "source": [
    "# Import Data"
   ]
  },
  {
   "cell_type": "code",
   "execution_count": 20,
   "id": "88567d3b",
   "metadata": {},
   "outputs": [],
   "source": [
    "df= load_digits()"
   ]
  },
  {
   "cell_type": "markdown",
   "id": "35a5a676",
   "metadata": {},
   "source": [
    "# Data Visualization"
   ]
  },
  {
   "cell_type": "code",
   "execution_count": 21,
   "id": "0d8f19a0",
   "metadata": {},
   "outputs": [
    {
     "data": {
      "image/png": "[encoded data removed]",
      "text/plain": [
       "<Figure size 720x216 with 4 Axes>"
      ]
     },
     "metadata": {
      "needs_background": "light"
     },
     "output_type": "display_data"
    }
   ],
   "source": [
    "_,axes = plt.subplots(nrows=1, ncols=4, figsize=(10,3))\n",
    "for ax, image, label in zip(axes, df.images, df.target):\n",
    "    ax.set_axis_off()\n",
    "    ax.imshow(image, cmap=plt.cm.gray_r, interpolation=\"nearest\")\n",
    "    ax.set_title(\"Training: %i\" % label)"
   ]
  },
  {
   "cell_type": "markdown",
   "id": "7fd6b0ba",
   "metadata": {},
   "source": [
    "# Data Preprocessing"
   ]
  },
  {
   "cell_type": "code",
   "execution_count": 22,
   "id": "9cd153b8",
   "metadata": {},
   "outputs": [
    {
     "data": {
      "text/plain": [
       "(1797, 8, 8)"
      ]
     },
     "execution_count": 22,
     "metadata": {},
     "output_type": "execute_result"
    }
   ],
   "source": [
    "df.images.shape"
   ]
  },
  {
   "cell_type": "code",
   "execution_count": 23,
   "id": "df8f3f99",
   "metadata": {},
   "outputs": [
    {
     "data": {
      "text/plain": [
       "array([[ 0.,  0.,  5., 13.,  9.,  1.,  0.,  0.],\n",
       "       [ 0.,  0., 13., 15., 10., 15.,  5.,  0.],\n",
       "       [ 0.,  3., 15.,  2.,  0., 11.,  8.,  0.],\n",
       "       [ 0.,  4., 12.,  0.,  0.,  8.,  8.,  0.],\n",
       "       [ 0.,  5.,  8.,  0.,  0.,  9.,  8.,  0.],\n",
       "       [ 0.,  4., 11.,  0.,  1., 12.,  7.,  0.],\n",
       "       [ 0.,  2., 14.,  5., 10., 12.,  0.,  0.],\n",
       "       [ 0.,  0.,  6., 13., 10.,  0.,  0.,  0.]])"
      ]
     },
     "execution_count": 23,
     "metadata": {},
     "output_type": "execute_result"
    }
   ],
   "source": [
    "df.images[0]"
   ]
  },
  {
   "cell_type": "code",
   "execution_count": 24,
   "id": "401dc060",
   "metadata": {},
   "outputs": [
    {
     "data": {
      "text/plain": [
       "(8, 8)"
      ]
     },
     "execution_count": 24,
     "metadata": {},
     "output_type": "execute_result"
    }
   ],
   "source": [
    "df.images[0].shape"
   ]
  },
  {
   "cell_type": "code",
   "execution_count": 25,
   "id": "2caf397e",
   "metadata": {},
   "outputs": [
    {
     "data": {
      "text/plain": [
       "1797"
      ]
     },
     "execution_count": 25,
     "metadata": {},
     "output_type": "execute_result"
    }
   ],
   "source": [
    "len(df.images)"
   ]
  },
  {
   "cell_type": "code",
   "execution_count": 26,
   "id": "b10eef93",
   "metadata": {},
   "outputs": [],
   "source": [
    "n_samples = len(df.images)\n",
    "data = df.images.reshape((n_samples, -1))"
   ]
  },
  {
   "cell_type": "code",
   "execution_count": 27,
   "id": "32dae150",
   "metadata": {},
   "outputs": [
    {
     "data": {
      "text/plain": [
       "array([ 0.,  0.,  5., 13.,  9.,  1.,  0.,  0.,  0.,  0., 13., 15., 10.,\n",
       "       15.,  5.,  0.,  0.,  3., 15.,  2.,  0., 11.,  8.,  0.,  0.,  4.,\n",
       "       12.,  0.,  0.,  8.,  8.,  0.,  0.,  5.,  8.,  0.,  0.,  9.,  8.,\n",
       "        0.,  0.,  4., 11.,  0.,  1., 12.,  7.,  0.,  0.,  2., 14.,  5.,\n",
       "       10., 12.,  0.,  0.,  0.,  0.,  6., 13., 10.,  0.,  0.,  0.])"
      ]
     },
     "execution_count": 27,
     "metadata": {},
     "output_type": "execute_result"
    }
   ],
   "source": [
    "data[0]"
   ]
  },
  {
   "cell_type": "code",
   "execution_count": 28,
   "id": "61da404e",
   "metadata": {},
   "outputs": [
    {
     "data": {
      "text/plain": [
       "(64,)"
      ]
     },
     "execution_count": 28,
     "metadata": {},
     "output_type": "execute_result"
    }
   ],
   "source": [
    "data[0].shape"
   ]
  },
  {
   "cell_type": "code",
   "execution_count": 29,
   "id": "7cb83dc4",
   "metadata": {},
   "outputs": [
    {
     "data": {
      "text/plain": [
       "(1797, 64)"
      ]
     },
     "execution_count": 29,
     "metadata": {},
     "output_type": "execute_result"
    }
   ],
   "source": [
    "data.shape"
   ]
  },
  {
   "cell_type": "markdown",
   "id": "9596f1e0",
   "metadata": {},
   "source": [
    "# Scaling Image Data"
   ]
  },
  {
   "cell_type": "code",
   "execution_count": 30,
   "id": "ba194cb0",
   "metadata": {},
   "outputs": [
    {
     "data": {
      "text/plain": [
       "<function ndarray.min>"
      ]
     },
     "execution_count": 30,
     "metadata": {},
     "output_type": "execute_result"
    }
   ],
   "source": [
    "data.min"
   ]
  },
  {
   "cell_type": "code",
   "execution_count": 31,
   "id": "370cca39",
   "metadata": {},
   "outputs": [
    {
     "data": {
      "text/plain": [
       "<function ndarray.max>"
      ]
     },
     "execution_count": 31,
     "metadata": {},
     "output_type": "execute_result"
    }
   ],
   "source": [
    "data.max"
   ]
  },
  {
   "cell_type": "code",
   "execution_count": 32,
   "id": "442038e1",
   "metadata": {},
   "outputs": [],
   "source": [
    "data = data/16"
   ]
  },
  {
   "cell_type": "code",
   "execution_count": 33,
   "id": "06035230",
   "metadata": {},
   "outputs": [
    {
     "data": {
      "text/plain": [
       "0.0"
      ]
     },
     "execution_count": 33,
     "metadata": {},
     "output_type": "execute_result"
    }
   ],
   "source": [
    "data.min()"
   ]
  },
  {
   "cell_type": "code",
   "execution_count": 34,
   "id": "4ec52b83",
   "metadata": {},
   "outputs": [
    {
     "data": {
      "text/plain": [
       "1.0"
      ]
     },
     "execution_count": 34,
     "metadata": {},
     "output_type": "execute_result"
    }
   ],
   "source": [
    "data.max()"
   ]
  },
  {
   "cell_type": "code",
   "execution_count": 36,
   "id": "8bc561db",
   "metadata": {},
   "outputs": [
    {
     "data": {
      "text/plain": [
       "array([0.    , 0.    , 0.3125, 0.8125, 0.5625, 0.0625, 0.    , 0.    ,\n",
       "       0.    , 0.    , 0.8125, 0.9375, 0.625 , 0.9375, 0.3125, 0.    ,\n",
       "       0.    , 0.1875, 0.9375, 0.125 , 0.    , 0.6875, 0.5   , 0.    ,\n",
       "       0.    , 0.25  , 0.75  , 0.    , 0.    , 0.5   , 0.5   , 0.    ,\n",
       "       0.    , 0.3125, 0.5   , 0.    , 0.    , 0.5625, 0.5   , 0.    ,\n",
       "       0.    , 0.25  , 0.6875, 0.    , 0.0625, 0.75  , 0.4375, 0.    ,\n",
       "       0.    , 0.125 , 0.875 , 0.3125, 0.625 , 0.75  , 0.    , 0.    ,\n",
       "       0.    , 0.    , 0.375 , 0.8125, 0.625 , 0.    , 0.    , 0.    ])"
      ]
     },
     "execution_count": 36,
     "metadata": {},
     "output_type": "execute_result"
    }
   ],
   "source": [
    "data[0]"
   ]
  },
  {
   "cell_type": "markdown",
   "id": "94afb284",
   "metadata": {},
   "source": [
    "# Train test split"
   ]
  },
  {
   "cell_type": "code",
   "execution_count": 37,
   "id": "33083aa1",
   "metadata": {},
   "outputs": [],
   "source": [
    "from sklearn.model_selection import train_test_split"
   ]
  },
  {
   "cell_type": "code",
   "execution_count": 38,
   "id": "99f11c69",
   "metadata": {},
   "outputs": [],
   "source": [
    "X_train,X_test,y_train,y_test= train_test_split(data,df.target,test_size=0.3)"
   ]
  },
  {
   "cell_type": "code",
   "execution_count": 39,
   "id": "d9373ba1",
   "metadata": {},
   "outputs": [
    {
     "data": {
      "text/plain": [
       "((1257, 64), (540, 64), (1257,), (540,))"
      ]
     },
     "execution_count": 39,
     "metadata": {},
     "output_type": "execute_result"
    }
   ],
   "source": [
    "X_train.shape,X_test.shape,y_train.shape,y_test.shape"
   ]
  },
  {
   "cell_type": "markdown",
   "id": "53743116",
   "metadata": {},
   "source": [
    "# Random Forest Model"
   ]
  },
  {
   "cell_type": "code",
   "execution_count": 40,
   "id": "b901ea3e",
   "metadata": {},
   "outputs": [],
   "source": [
    "from sklearn.ensemble import RandomForestClassifier"
   ]
  },
  {
   "cell_type": "code",
   "execution_count": 41,
   "id": "687f136f",
   "metadata": {},
   "outputs": [],
   "source": [
    "model = RandomForestClassifier()"
   ]
  },
  {
   "cell_type": "code",
   "execution_count": 42,
   "id": "48534338",
   "metadata": {},
   "outputs": [
    {
     "data": {
      "text/plain": [
       "RandomForestClassifier()"
      ]
     },
     "execution_count": 42,
     "metadata": {},
     "output_type": "execute_result"
    }
   ],
   "source": [
    "model.fit(X_train, y_train)"
   ]
  },
  {
   "cell_type": "code",
   "execution_count": 43,
   "id": "d5522296",
   "metadata": {},
   "outputs": [],
   "source": [
    "y_pred=model.predict(X_test)"
   ]
  },
  {
   "cell_type": "code",
   "execution_count": 44,
   "id": "2227a50a",
   "metadata": {},
   "outputs": [
    {
     "data": {
      "text/plain": [
       "array([7, 9, 6, 8, 5, 6, 9, 5, 8, 5, 1, 7, 7, 8, 9, 5, 4, 4, 5, 9, 8, 9,\n",
       "       2, 8, 0, 1, 2, 3, 4, 1, 0, 2, 8, 8, 6, 3, 2, 1, 9, 5, 6, 1, 4, 8,\n",
       "       9, 0, 1, 1, 7, 7, 9, 6, 8, 0, 1, 3, 4, 2, 6, 7, 1, 9, 1, 9, 3, 4,\n",
       "       4, 5, 6, 1, 5, 4, 4, 4, 9, 0, 1, 0, 6, 2, 7, 0, 8, 9, 9, 8, 2, 1,\n",
       "       0, 8, 7, 3, 1, 0, 6, 3, 8, 8, 8, 8, 9, 2, 5, 8, 9, 1, 8, 6, 6, 8,\n",
       "       3, 8, 4, 0, 9, 9, 9, 1, 8, 9, 7, 2, 6, 3, 2, 0, 8, 9, 7, 7, 6, 3,\n",
       "       2, 9, 2, 6, 3, 3, 1, 9, 7, 3, 3, 0, 9, 6, 7, 1, 1, 6, 4, 8, 1, 4,\n",
       "       2, 5, 4, 4, 7, 7, 3, 2, 1, 4, 3, 8, 0, 8, 2, 6, 1, 5, 7, 9, 1, 9,\n",
       "       4, 9, 4, 4, 1, 2, 1, 1, 2, 7, 2, 3, 2, 7, 3, 9, 4, 1, 5, 3, 1, 2,\n",
       "       8, 8, 0, 4, 0, 7, 5, 4, 8, 1, 7, 5, 7, 1, 2, 1, 0, 8, 0, 9, 0, 5,\n",
       "       5, 4, 0, 4, 3, 9, 3, 6, 1, 3, 5, 4, 2, 1, 5, 1, 9, 5, 1, 6, 8, 2,\n",
       "       6, 1, 2, 5, 7, 2, 0, 0, 5, 8, 4, 6, 3, 0, 9, 5, 1, 6, 5, 1, 4, 2,\n",
       "       7, 8, 9, 4, 7, 9, 4, 4, 5, 6, 3, 5, 2, 6, 1, 5, 6, 9, 9, 3, 1, 7,\n",
       "       9, 9, 1, 9, 5, 4, 5, 9, 1, 6, 5, 1, 4, 4, 0, 6, 3, 6, 8, 4, 1, 3,\n",
       "       4, 2, 3, 6, 1, 4, 6, 3, 2, 6, 5, 1, 2, 0, 0, 3, 4, 5, 7, 9, 0, 2,\n",
       "       5, 4, 2, 9, 5, 7, 4, 2, 5, 4, 7, 6, 8, 9, 3, 1, 0, 9, 1, 6, 2, 1,\n",
       "       3, 1, 4, 8, 3, 7, 7, 9, 0, 1, 2, 8, 3, 3, 7, 8, 6, 9, 2, 4, 8, 6,\n",
       "       0, 4, 3, 6, 3, 5, 7, 0, 5, 8, 6, 1, 4, 4, 8, 4, 2, 1, 9, 3, 2, 9,\n",
       "       0, 1, 7, 6, 9, 0, 5, 9, 2, 5, 5, 7, 9, 0, 3, 7, 1, 1, 6, 4, 6, 1,\n",
       "       9, 9, 7, 6, 2, 0, 4, 3, 0, 4, 8, 5, 9, 2, 9, 1, 9, 1, 4, 9, 6, 5,\n",
       "       9, 4, 3, 4, 6, 3, 9, 3, 2, 6, 5, 7, 9, 5, 5, 4, 6, 4, 4, 7, 6, 9,\n",
       "       6, 6, 1, 0, 8, 9, 2, 1, 6, 1, 1, 6, 6, 4, 4, 2, 9, 4, 9, 5, 8, 3,\n",
       "       7, 7, 0, 6, 9, 9, 3, 0, 8, 8, 6, 5, 4, 7, 2, 7, 4, 0, 2, 5, 6, 2,\n",
       "       5, 7, 4, 5, 1, 3, 4, 6, 1, 4, 7, 6, 4, 2, 6, 4, 9, 6, 4, 3, 6, 6,\n",
       "       8, 7, 8, 9, 3, 4, 4, 3, 3, 5, 9, 6])"
      ]
     },
     "execution_count": 44,
     "metadata": {},
     "output_type": "execute_result"
    }
   ],
   "source": [
    "y_pred"
   ]
  },
  {
   "cell_type": "markdown",
   "id": "c236af56",
   "metadata": {},
   "source": [
    "# Model Accuracy"
   ]
  },
  {
   "cell_type": "code",
   "execution_count": 45,
   "id": "eb068333",
   "metadata": {},
   "outputs": [],
   "source": [
    "from sklearn.metrics import classification_report, accuracy_score, confusion_matrix"
   ]
  },
  {
   "cell_type": "code",
   "execution_count": 46,
   "id": "e2c2a574",
   "metadata": {},
   "outputs": [],
   "source": [
    "cm = confusion_matrix(y_test, y_pred)"
   ]
  },
  {
   "cell_type": "code",
   "execution_count": 47,
   "id": "cc4712e0",
   "metadata": {},
   "outputs": [
    {
     "name": "stdout",
     "output_type": "stream",
     "text": [
      "Classification Report:\n",
      "              precision    recall  f1-score   support\n",
      "\n",
      "           0       1.00      0.97      0.99        40\n",
      "           1       0.97      1.00      0.98        63\n",
      "           2       1.00      1.00      1.00        48\n",
      "           3       0.98      0.98      0.98        49\n",
      "           4       0.97      0.99      0.98        67\n",
      "           5       0.96      0.98      0.97        49\n",
      "           6       1.00      0.97      0.98        63\n",
      "           7       0.98      0.98      0.98        45\n",
      "           8       0.96      0.94      0.95        48\n",
      "           9       0.97      0.97      0.97        68\n",
      "\n",
      "    accuracy                           0.98       540\n",
      "   macro avg       0.98      0.98      0.98       540\n",
      "weighted avg       0.98      0.98      0.98       540\n",
      "\n"
     ]
    }
   ],
   "source": [
    "print(\"Classification Report:\")\n",
    "print(classification_report(y_test, y_pred))"
   ]
  },
  {
   "cell_type": "code",
   "execution_count": 48,
   "id": "b8aaccfd",
   "metadata": {},
   "outputs": [
    {
     "name": "stdout",
     "output_type": "stream",
     "text": [
      "Accuracy: 97.78%\n"
     ]
    }
   ],
   "source": [
    "print(f\"Accuracy: {accuracy_score(y_test, y_pred) * 100:.2f}%\")"
   ]
  },
  {
   "cell_type": "code",
   "execution_count": null,
   "id": "981ab05f",
   "metadata": {},
   "outputs": [],
   "source": []
  }
 ],
 "metadata": {
  "celltoolbar": "Raw Cell Format",
  "kernelspec": {
   "display_name": "Python 3 (ipykernel)",
   "language": "python",
   "name": "python3"
  },
  "language_info": {
   "codemirror_mode": {
    "name": "ipython",
    "version": 3
   },
   "file_extension": ".py",
   "mimetype": "text/x-python",
   "name": "python",
   "nbconvert_exporter": "python",
   "pygments_lexer": "ipython3",
   "version": "3.9.12"
  }
 },
 "nbformat": 4,
 "nbformat_minor": 5
}
